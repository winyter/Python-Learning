{
 "cells": [
  {
   "cell_type": "markdown",
   "metadata": {},
   "source": [
    "# 内置数据结构（变量类型）\n",
    "- list\n",
    "- set\n",
    "- dict\n",
    "- tuple\n",
    "\n",
    "## list\n",
    "- 一组有顺序的数据组成的组合\n",
    "### 创建列表\n",
    "    - 空列表：\n",
    "        list_name = []\n",
    "    - 创建有值的列表\n",
    "        list_name = [value1, value2, value3, ...]\n",
    "    - 使用list()函数\n",
    "        list_name = list()\n",
    "        "
   ]
  },
  {
   "cell_type": "code",
   "execution_count": 6,
   "metadata": {},
   "outputs": [
    {
     "name": "stdout",
     "output_type": "stream",
     "text": [
      "<class 'list'>\n",
      "<class 'list'>\n",
      "[100, 'hello']\n",
      "<class 'list'>\n",
      "[]\n"
     ]
    }
   ],
   "source": [
    "# 创建空列表\n",
    "l1 = []\n",
    "print(type(l1))\n",
    "\n",
    "# 创建带值的列表\n",
    "l2 = [100,\"hello\"]\n",
    "print(type(l2))\n",
    "print(l2)\n",
    "\n",
    "# 使用list()函数\n",
    "l3 = list()\n",
    "print(type(l3))\n",
    "print(l3)"
   ]
  },
  {
   "cell_type": "code",
   "execution_count": 8,
   "metadata": {},
   "outputs": [
    {
     "name": "stdout",
     "output_type": "stream",
     "text": [
      "Help on list object:\n",
      "\n",
      "class list(object)\n",
      " |  list(iterable=(), /)\n",
      " |  \n",
      " |  Built-in mutable sequence.\n",
      " |  \n",
      " |  If no argument is given, the constructor creates a new empty list.\n",
      " |  The argument must be an iterable if specified.\n",
      " |  \n",
      " |  Methods defined here:\n",
      " |  \n",
      " |  __add__(self, value, /)\n",
      " |      Return self+value.\n",
      " |  \n",
      " |  __contains__(self, key, /)\n",
      " |      Return key in self.\n",
      " |  \n",
      " |  __delitem__(self, key, /)\n",
      " |      Delete self[key].\n",
      " |  \n",
      " |  __eq__(self, value, /)\n",
      " |      Return self==value.\n",
      " |  \n",
      " |  __ge__(self, value, /)\n",
      " |      Return self>=value.\n",
      " |  \n",
      " |  __getattribute__(self, name, /)\n",
      " |      Return getattr(self, name).\n",
      " |  \n",
      " |  __getitem__(...)\n",
      " |      x.__getitem__(y) <==> x[y]\n",
      " |  \n",
      " |  __gt__(self, value, /)\n",
      " |      Return self>value.\n",
      " |  \n",
      " |  __iadd__(self, value, /)\n",
      " |      Implement self+=value.\n",
      " |  \n",
      " |  __imul__(self, value, /)\n",
      " |      Implement self*=value.\n",
      " |  \n",
      " |  __init__(self, /, *args, **kwargs)\n",
      " |      Initialize self.  See help(type(self)) for accurate signature.\n",
      " |  \n",
      " |  __iter__(self, /)\n",
      " |      Implement iter(self).\n",
      " |  \n",
      " |  __le__(self, value, /)\n",
      " |      Return self<=value.\n",
      " |  \n",
      " |  __len__(self, /)\n",
      " |      Return len(self).\n",
      " |  \n",
      " |  __lt__(self, value, /)\n",
      " |      Return self<value.\n",
      " |  \n",
      " |  __mul__(self, value, /)\n",
      " |      Return self*value.\n",
      " |  \n",
      " |  __ne__(self, value, /)\n",
      " |      Return self!=value.\n",
      " |  \n",
      " |  __repr__(self, /)\n",
      " |      Return repr(self).\n",
      " |  \n",
      " |  __reversed__(self, /)\n",
      " |      Return a reverse iterator over the list.\n",
      " |  \n",
      " |  __rmul__(self, value, /)\n",
      " |      Return value*self.\n",
      " |  \n",
      " |  __setitem__(self, key, value, /)\n",
      " |      Set self[key] to value.\n",
      " |  \n",
      " |  __sizeof__(self, /)\n",
      " |      Return the size of the list in memory, in bytes.\n",
      " |  \n",
      " |  append(self, object, /)\n",
      " |      Append object to the end of the list.\n",
      " |  \n",
      " |  clear(self, /)\n",
      " |      Remove all items from list.\n",
      " |  \n",
      " |  copy(self, /)\n",
      " |      Return a shallow copy of the list.\n",
      " |  \n",
      " |  count(self, value, /)\n",
      " |      Return number of occurrences of value.\n",
      " |  \n",
      " |  extend(self, iterable, /)\n",
      " |      Extend list by appending elements from the iterable.\n",
      " |  \n",
      " |  index(self, value, start=0, stop=9223372036854775807, /)\n",
      " |      Return first index of value.\n",
      " |      \n",
      " |      Raises ValueError if the value is not present.\n",
      " |  \n",
      " |  insert(self, index, object, /)\n",
      " |      Insert object before index.\n",
      " |  \n",
      " |  pop(self, index=-1, /)\n",
      " |      Remove and return item at index (default last).\n",
      " |      \n",
      " |      Raises IndexError if list is empty or index is out of range.\n",
      " |  \n",
      " |  remove(self, value, /)\n",
      " |      Remove first occurrence of value.\n",
      " |      \n",
      " |      Raises ValueError if the value is not present.\n",
      " |  \n",
      " |  reverse(self, /)\n",
      " |      Reverse *IN PLACE*.\n",
      " |  \n",
      " |  sort(self, /, *, key=None, reverse=False)\n",
      " |      Stable sort *IN PLACE*.\n",
      " |  \n",
      " |  ----------------------------------------------------------------------\n",
      " |  Static methods defined here:\n",
      " |  \n",
      " |  __new__(*args, **kwargs) from builtins.type\n",
      " |      Create and return a new object.  See help(type) for accurate signature.\n",
      " |  \n",
      " |  ----------------------------------------------------------------------\n",
      " |  Data and other attributes defined here:\n",
      " |  \n",
      " |  __hash__ = None\n",
      "\n"
     ]
    }
   ],
   "source": [
    "# 使用list()函数，插入数据与使用list列表不大一样\n",
    "help(list())"
   ]
  },
  {
   "cell_type": "markdown",
   "metadata": {},
   "source": [
    "### 列表的常用操作\n",
    "- 访问\n",
    "    - 使用下表操作（索引）\n",
    "    - 列表的位置是从0开始的\n",
    "- 分片操作\n",
    "    - 对列表进行任意一段的截取\n",
    "    - 用法：\n",
    "        - list_name[start_index:end_index:step]（左包含，右不包含）\n",
    "        - step为截取步长，默认为1,step可以为负值，当step为正值时，list的截取为从左往右截取，start_index必须大于end_index，当step为负值时，list的截取为从右往左截取，start_index必须小于end_index\n",
    "        - 小技巧：通过step使列表值颠倒：list_name[::-1]\n",
    "        - start_index 和 end_index 可以不写，不写的时候，start_index为0, end_index为最大索引值\n",
    "        - end_index可以超出list下标范围，超出部分python会直接忽略\n",
    "        - start_index 和 end_index 可以为负数，负数仅表示以负索引的形式来表示截取索引，实际上真正的截取操作是从左向右，还是从右向左，依旧以step的正负为决定，下面示例负索引和正索引的关系：\n",
    "\n",
    "                     l = [ a, b, c, d, e, f, g]\n",
    "               l.index = [ 0, 1, 2, 3, 4, 5, 6]\n",
    "              l.-index = [-7,-6,-5,-4,-3,-2,-1]\n",
    "            \n",
    "    - 分片操作是生成一个新的list,而不是指向原list\n",
    "        - 内置函数id，负责显示一个变量或者数据的唯一确定编号\n",
    "            id(object_name)"
   ]
  },
  {
   "cell_type": "code",
   "execution_count": 42,
   "metadata": {},
   "outputs": [
    {
     "name": "stdout",
     "output_type": "stream",
     "text": [
      "3 2 1\n",
      "***************************************************\n",
      "[3, 2, 1]\n",
      "***************************************************\n",
      "[3, 2, 1]\n",
      "[4, 5, 7, 9]\n",
      "[3, 2, 1, 4, 5, 7, 9]\n",
      "***************************************************\n",
      "[3, 1, 5]\n",
      "***************************************************\n",
      "[5, 7]\n",
      "[5, 7, 9]\n",
      "[]\n",
      "***************************************************\n",
      "[4, 1, 2]\n",
      "[9, 7]\n",
      "***************************************************\n",
      "140350206701704\n",
      "140350242139336\n",
      "140350242139336\n",
      "***************************************************\n",
      "[3, 100, 1, 4, 5, 7, 9] \n",
      " [3, 2, 1, 4, 5, 7, 9]\n",
      "[3, 1000, 1, 4, 5, 7, 9] \n",
      " [3, 1000, 1, 4, 5, 7, 9]\n"
     ]
    }
   ],
   "source": [
    "# 下划线访问\n",
    "l = [3,2,1,4,5,7,9]\n",
    "\n",
    "print(l[0], l[1], l[2])\n",
    "\n",
    "print(\"***************************************************\")\n",
    "\n",
    "print(l[0:3])\n",
    "\n",
    "print(\"***************************************************\")\n",
    "\n",
    "print(l[:3])\n",
    "print(l[3:])\n",
    "print(l[:])\n",
    "\n",
    "print(\"***************************************************\")\n",
    "\n",
    "print(l[0:5:2])\n",
    "\n",
    "print(\"***************************************************\")\n",
    "\n",
    "print(l[-3:-1])\n",
    "print(l[-3:])\n",
    "print(l[-1:-3]) #错误示范\n",
    "\n",
    "print(\"***************************************************\")\n",
    "\n",
    "print(l[3:0:-1])\n",
    "print(l[-1:-3:-1])\n",
    "\n",
    "print(\"***************************************************\")\n",
    "\n",
    "l_1 = l[:]\n",
    "l_2 = l_1\n",
    "print(id(l))\n",
    "print(id(l_1))\n",
    "print(id(l_2))\n",
    "\n",
    "print(\"***************************************************\")\n",
    "\n",
    "l[1] = 100\n",
    "print(l, \"\\n\", l_1)\n",
    "\n",
    "l_1[1] = 1000\n",
    "print(l_1, \"\\n\", l_2)\n",
    "\n",
    "# 通过上面两段代码的例子，可以发现，列表分片是做了新建列表的操作\n",
    "# 同时，也可以发现，当一个列表直接赋值给另外一个列表时，另外这个列表指向的还是原来那个列表的数据所在的内存地址（其实，不仅仅是列表有这个特性，其他很多对象都是这个特性）"
   ]
  },
  {
   "cell_type": "code",
   "execution_count": 1,
   "metadata": {},
   "outputs": [
    {
     "name": "stdout",
     "output_type": "stream",
     "text": [
      "139827426347120\n",
      "139827426347024\n",
      "139827426347120\n",
      "139827426346832\n"
     ]
    }
   ],
   "source": [
    "# id()的使用\n",
    "a = 10000\n",
    "b = 10000\n",
    "c = a\n",
    "\n",
    "print(id(a))\n",
    "print(id(b))\n",
    "print(id(c))\n",
    "\n",
    "#修改了值，也修改了id\n",
    "a = 100001\n",
    "print(id(a))"
   ]
  },
  {
   "cell_type": "markdown",
   "metadata": {},
   "source": [
    "### 汉诺塔问题\n",
    "- 规则：\n",
    "    1、每次移动一个盘子\n",
    "    2、任何时候大盘子在下，小盘子在上\n",
    "- 方法：\n",
    "    1、n = 1，A->C\n",
    "    2、n = 2, A->B,A->C,B->C\n",
    "    3、n = 3：\n",
    "        1、把A上的两个盘子通过C移动到B上去，调用递归实现\n",
    "        2、把A上剩下的一个最大盘子移动到C，A->C\n",
    "        3、把B上的两个盘子借助A，移动到C上，调用递归\n",
    "    4、n = n：\n",
    "        1、把A上的n-1个盘子，借助于C，移动到B上去，调用递归\n",
    "        2、把A上的最大盘子，也是唯一一个移动到C上，A->C\n",
    "        3、把B上的n-1个盘子，借助于A，移动到C上，调用递归\n",
    "        \n",
    "- 实际上，递归问题总有一个特征：当在解决n的问题时，需要使用n-1的解决结果，而解决n-1的问题的时候，需要使用n-2的解决结果，以此类推，直到需要1或者2(或者3,4,5等等这些有明确范围)的解决结果，而1或者2或者其他有明确范围的解决结果，则因为有明确范围而有明确的结果。\n",
    "- 汉诺塔问题就是这样：\n",
    "    - 把n和n-1看成两个整体，这样n和n-1就像两个盘子，我只需要想办法把n-1这个盘子放到B上，让n能从A到C即可，而我如何把n-1放到B上呢？\n",
    "    - 把n-1和n-2看成两个整体，我只需要想办法把n-2放到A上，让n-1能从B到C即可，而我如何把n-2放到A上呢？\n",
    "    - 把n-2和n-3看成两个整体。。。。。。\n",
    "    - 直到最后，我需要把1和2这两个盘子看成整体(这两个本来就是两个整体)，让1放到B上，让2放到C上，再让1从B放到C上\n"
   ]
  },
  {
   "cell_type": "code",
   "execution_count": 3,
   "metadata": {},
   "outputs": [],
   "source": [
    "def hano(n,a,b,c):\n",
    "    '''\n",
    "    n:代表几个盘子\n",
    "    a：表示起点塔，即a所在的变量位置填写起点塔\n",
    "    b：表示中介塔，即b所在的变量位置填写中介塔\n",
    "    c：表示终点塔，即c所在的变量位置填写终点塔\n",
    "    '''\n",
    "    \n",
    "    if n == 1:\n",
    "        print(a, \"-->\", c)\n",
    "    if n == 2:\n",
    "        print(a, \"-->\", b)\n",
    "        print(a, \"-->\", c)\n",
    "        print(b, \"-->\", c)\n",
    "    if n >=3:\n",
    "        hano(n-1,a,c,b) #把n-1这个整体挪到b，此处结合上面的一段话去理解，a塔为起点塔，c变成了中介塔，b塔则成为了终点塔\n",
    "        print(a, \"-->\", c) #把n挪到c\n",
    "        hano(n-1,b,a,c) #把n-1挪到c，此处结合上面的一段话去理解，b塔为起点塔，a为中介塔，c为终点塔\n"
   ]
  },
  {
   "cell_type": "code",
   "execution_count": 7,
   "metadata": {},
   "outputs": [
    {
     "name": "stdout",
     "output_type": "stream",
     "text": [
      "汉 --> 诺\n",
      "汉 --> 塔\n",
      "诺 --> 塔\n",
      "汉 --> 诺\n",
      "塔 --> 汉\n",
      "塔 --> 诺\n",
      "汉 --> 诺\n",
      "汉 --> 塔\n",
      "诺 --> 塔\n",
      "诺 --> 汉\n",
      "塔 --> 汉\n",
      "诺 --> 塔\n",
      "汉 --> 诺\n",
      "汉 --> 塔\n",
      "诺 --> 塔\n"
     ]
    }
   ],
   "source": [
    "hano(4,\"汉\",\"诺\",\"塔\")"
   ]
  },
  {
   "cell_type": "markdown",
   "metadata": {},
   "source": [
    "### list操作关键字\n",
    "- del：删除列表内容\n",
    "- +：列表拼接\n",
    "- * ：用法：list * n，n是个数字，相当于把n个list拼接在一起\n",
    "- in & not in：成员运算符，判断一个列表中的元素是否在另一个列表"
   ]
  },
  {
   "cell_type": "code",
   "execution_count": 11,
   "metadata": {},
   "outputs": [
    {
     "name": "stdout",
     "output_type": "stream",
     "text": [
      "[1, 2, 4, 5, 6]\n"
     ]
    },
    {
     "ename": "NameError",
     "evalue": "name 'a' is not defined",
     "output_type": "error",
     "traceback": [
      "\u001b[0;31m---------------------------------------------------------------------------\u001b[0m",
      "\u001b[0;31mNameError\u001b[0m                                 Traceback (most recent call last)",
      "\u001b[0;32m<ipython-input-11-edf0ec6b326c>\u001b[0m in \u001b[0;36m<module>\u001b[0;34m()\u001b[0m\n\u001b[1;32m      4\u001b[0m \u001b[0mprint\u001b[0m\u001b[0;34m(\u001b[0m\u001b[0ma\u001b[0m\u001b[0;34m)\u001b[0m\u001b[0;34m\u001b[0m\u001b[0m\n\u001b[1;32m      5\u001b[0m \u001b[0;32mdel\u001b[0m \u001b[0ma\u001b[0m    \u001b[0;31m#del删除整个列表会把这个变量也一起删掉，所以下面的print会报错\u001b[0m\u001b[0;34m\u001b[0m\u001b[0m\n\u001b[0;32m----> 6\u001b[0;31m \u001b[0mprint\u001b[0m\u001b[0;34m(\u001b[0m\u001b[0ma\u001b[0m\u001b[0;34m)\u001b[0m\u001b[0;34m\u001b[0m\u001b[0m\n\u001b[0m",
      "\u001b[0;31mNameError\u001b[0m: name 'a' is not defined"
     ]
    }
   ],
   "source": [
    "# del\n",
    "a = [1,2,3,4,5,6]\n",
    "del a[2]\n",
    "print(a)\n",
    "del a    #del删除整个列表会把这个变量也一起删掉，所以下面的print会报错\n",
    "print(a)"
   ]
  },
  {
   "cell_type": "code",
   "execution_count": 16,
   "metadata": {},
   "outputs": [
    {
     "name": "stdout",
     "output_type": "stream",
     "text": [
      "[1, 2, 3, 4, 5]\n",
      "[1, 2, 3, 1, 2, 3, 1, 2, 3]\n",
      "False\n",
      "True\n"
     ]
    }
   ],
   "source": [
    "a = [1,2,3]\n",
    "b = [4,5]\n",
    "c = a + b\n",
    "print(c)\n",
    "d = a *3\n",
    "print(d)\n",
    "e = a in b\n",
    "print(e)\n",
    "f = a not in b\n",
    "print(f)"
   ]
  },
  {
   "cell_type": "markdown",
   "metadata": {},
   "source": [
    "### 列表的遍历\n",
    "- for\n",
    "- while\n",
    "    - while遍历比较麻烦，一般不用"
   ]
  },
  {
   "cell_type": "code",
   "execution_count": 18,
   "metadata": {},
   "outputs": [
    {
     "name": "stdout",
     "output_type": "stream",
     "text": [
      "1\n",
      "2\n",
      "3\n",
      "4\n",
      "5\n"
     ]
    }
   ],
   "source": [
    "a = [1,2,3,4,5]\n",
    "for item in a:\n",
    "    print(item)"
   ]
  },
  {
   "cell_type": "code",
   "execution_count": 22,
   "metadata": {},
   "outputs": [
    {
     "name": "stdout",
     "output_type": "stream",
     "text": [
      "1\n",
      "2\n",
      "3\n"
     ]
    }
   ],
   "source": [
    "a = [1,2,3]\n",
    "length = len(a)\n",
    "index = 0\n",
    "while index < length:\n",
    "    print(a[index])\n",
    "    index += 1"
   ]
  },
  {
   "cell_type": "code",
   "execution_count": 25,
   "metadata": {},
   "outputs": [
    {
     "name": "stdout",
     "output_type": "stream",
     "text": [
      "1 --> 2\n",
      "4 --> 5\n",
      "7 --> 8\n"
     ]
    }
   ],
   "source": [
    "# 双层列表遍历,这是个特例，子层列表刚好为两个\n",
    "a = [[1,2],[4,5],[7,8]]\n",
    "\n",
    "for k,v in a:\n",
    "    print(k, \"-->\", v)"
   ]
  },
  {
   "cell_type": "code",
   "execution_count": 27,
   "metadata": {},
   "outputs": [
    {
     "name": "stdout",
     "output_type": "stream",
     "text": [
      "1 2 3\n",
      "4 5 6\n",
      "7 8 9\n"
     ]
    }
   ],
   "source": [
    "# 双层列表遍历，变异，这类写法必须要子层内的元素个数一样\n",
    "a = [[1,2,3],[4,5,6],[7,8,9]]\n",
    "\n",
    "for k,v,w in a:\n",
    "    print(k,v,w)"
   ]
  },
  {
   "cell_type": "markdown",
   "metadata": {},
   "source": [
    "### 列表内涵：list content\n",
    "- 通过简单的方法创造列表"
   ]
  },
  {
   "cell_type": "code",
   "execution_count": 29,
   "metadata": {},
   "outputs": [
    {
     "name": "stdout",
     "output_type": "stream",
     "text": [
      "[1, 2, 3]\n"
     ]
    }
   ],
   "source": [
    "a = [1,2,3]\n",
    "b = [i for i in a]\n",
    "print(b)"
   ]
  },
  {
   "cell_type": "code",
   "execution_count": 31,
   "metadata": {},
   "outputs": [
    {
     "name": "stdout",
     "output_type": "stream",
     "text": [
      "[10, 20, 30]\n"
     ]
    }
   ],
   "source": [
    "a = [1,2,3]\n",
    "b = [i * 10 for i in a]\n",
    "print(b)"
   ]
  },
  {
   "cell_type": "code",
   "execution_count": 33,
   "metadata": {},
   "outputs": [
    {
     "name": "stdout",
     "output_type": "stream",
     "text": [
      "[2, 4, 6, 8, 10, 12, 14, 16, 18, 20, 22, 24, 26, 28, 30]\n"
     ]
    }
   ],
   "source": [
    "a = [x for x in range(1,31)]\n",
    "b = [i for i in a if i % 2 == 0]\n",
    "print(b)"
   ]
  },
  {
   "cell_type": "code",
   "execution_count": 38,
   "metadata": {},
   "outputs": [
    {
     "name": "stdout",
     "output_type": "stream",
     "text": [
      "[1, 2, 3]\n",
      "[100, 200, 300]\n",
      "[101, 201, 301, 102, 202, 302, 103, 203, 303]\n",
      "101 201 301 102 202 302 103 203 303 "
     ]
    }
   ],
   "source": [
    "a = [m for m in range(1,4)]\n",
    "print(a)\n",
    "b = [n for n in range(100,400) if n % 100 == 0]\n",
    "print(b)\n",
    "\n",
    "# 下两个等价\n",
    "c = [x+y for x in a for y in b]\n",
    "print(c)\n",
    "for i in a:\n",
    "    for j in b:\n",
    "        print(i+j, end = \" \")"
   ]
  },
  {
   "cell_type": "markdown",
   "metadata": {},
   "source": [
    "## 列表的常用函数\n",
    "- len(): 求列表长度\n",
    "- max(): 求最大值\n",
    "- min(): 求最小值\n",
    "- list():把其他格式的数据转换成list,可迭代的才能使用这个函数转换成list"
   ]
  },
  {
   "cell_type": "code",
   "execution_count": 39,
   "metadata": {},
   "outputs": [
    {
     "name": "stdout",
     "output_type": "stream",
     "text": [
      "5\n",
      "5\n",
      "c\n",
      "a\n"
     ]
    }
   ],
   "source": [
    "# len()\n",
    "a = [1,2,3,4,5]\n",
    "b = [\"a\",\"b\",\"c\"]\n",
    "print(len(a))\n",
    "print(max(a))\n",
    "# 字符串也能求大小\n",
    "print(max(b))\n",
    "print(min(b))"
   ]
  },
  {
   "cell_type": "code",
   "execution_count": 41,
   "metadata": {},
   "outputs": [
    {
     "name": "stdout",
     "output_type": "stream",
     "text": [
      "[1, 2, 3]\n",
      "['h', 'e', 'l', 'l', 'o', ' ', 'w', 'o', 'r', 'l', 'd']\n"
     ]
    }
   ],
   "source": [
    "a = [1,2,3]\n",
    "s = \"hello world\"\n",
    "print(list(a))\n",
    "print(list(s))\n",
    "print(list(range(1,5)))"
   ]
  },
  {
   "cell_type": "code",
   "execution_count": null,
   "metadata": {},
   "outputs": [],
   "source": []
  }
 ],
 "metadata": {
  "kernelspec": {
   "display_name": "Python 3",
   "language": "python",
   "name": "python3"
  },
  "language_info": {
   "codemirror_mode": {
    "name": "ipython",
    "version": 3
   },
   "file_extension": ".py",
   "mimetype": "text/x-python",
   "name": "python",
   "nbconvert_exporter": "python",
   "pygments_lexer": "ipython3",
   "version": "3.7.3"
  }
 },
 "nbformat": 4,
 "nbformat_minor": 2
}
