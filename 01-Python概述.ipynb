{
 "cells": [
  {
   "cell_type": "markdown",
   "metadata": {},
   "source": [
    "# 学习方法\n",
    "- 从新讲述\n",
    "- 课程组织形式\n",
    "- 学习笔记\n",
    "\n",
    "# 代码仓库\n",
    "# 群提问"
   ]
  },
  {
   "cell_type": "markdown",
   "metadata": {},
   "source": [
    "# Python概述\n",
    "## 计算机语言描述\n",
    "- 语言：交流的工具，沟通媒介\n",
    "- 计算机语言：人跟计算机交流的工具，翻译官\n",
    "- Python是计算机语言里的一种\n",
    "- Python编程语言\n",
    "    - 代码：人类语言，通过代码命令机器，跟机器交流\n",
    "    - Python解释器：就是那个担任翻译工作\n",
    "    - 流程：\n",
    "         - 写代码\n",
    "         - 执行：由翻译官（Python解释器）把命令（Code）翻译给机器，同时把机器结果翻译出来\n",
    "\n",
    "## Python简史\n",
    "- 1989年，Guido van Rossum\n",
    "- 2008：Python3.0诞生\n",
    "- 2014：宣布2.7支持到2020\n",
    "- 2017：AI元年，Python崛起\n",
    "\n",
    "## Python特点\n",
    "- 速度问题\n",
    "- python跟其他语言的选择问题\n",
    "\n",
    "## Python的应用领域\n",
    "- 全能\n",
    "- 设计哲学：平衡发展，样样通，简介明了\n",
    "\n",
    "## 环境问题\n",
    "- anaconda + pycharm(IDE)\n",
    "- python3.6\n",
    "\n",
    "## 环境\n",
    "- 学习环境\n",
    "    - 直播课+习题课\n",
    "    - 讲义+代码：github\n",
    "    - 教科书：课堂讲义在gitbook，后期可能出书\n",
    "- 工作环境\n",
    "    - jupyter notebook\n",
    "    - 环境安装：\n",
    "        - gitbook上有"
   ]
  },
  {
   "cell_type": "code",
   "execution_count": 6,
   "metadata": {},
   "outputs": [
    {
     "name": "stdout",
     "output_type": "stream",
     "text": [
      "Hello World\n"
     ]
    }
   ],
   "source": [
    "print(\"Hello World\")"
   ]
  },
  {
   "cell_type": "code",
   "execution_count": null,
   "metadata": {},
   "outputs": [],
   "source": []
  }
 ],
 "metadata": {
  "kernelspec": {
   "display_name": "Python 3",
   "language": "python",
   "name": "python3"
  },
  "language_info": {
   "codemirror_mode": {
    "name": "ipython",
    "version": 3
   },
   "file_extension": ".py",
   "mimetype": "text/x-python",
   "name": "python",
   "nbconvert_exporter": "python",
   "pygments_lexer": "ipython3",
   "version": "3.7.0"
  }
 },
 "nbformat": 4,
 "nbformat_minor": 2
}
