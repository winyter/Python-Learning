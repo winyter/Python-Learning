{
 "cells": [
  {
   "cell_type": "markdown",
   "metadata": {},
   "source": [
    "# 环境安装\n",
    "- vmware+Ubuntu\n",
    "- 套件 Anaconda3+pycharm\n",
    "\n",
    "# 代码规范\n",
    "- Python官方提供一系列规范 PEP文档 （Python Enhancement Proposals）\n",
    "- PEP 8：\n",
    "    - https://www.python.org/dev/peps/pep-0008/ 英文文档\n",
    "    - https://zh-google-styleguide.readthedocs.io/en/latest/google-python-styleguide/python_style_rules/\n",
    "    \n",
    "# 注释\n",
    "- 行注释：#\n",
    "- 块注释：'''...'''\n",
    "\n",
    "# 变量\n",
    "- 变量就是可以重复使用的一个量，或者叫一个代号\n",
    "- 变量命名规则\n",
    "    - 变量命名可以包含数据，大小写字母，下划线或者更大，但不推荐除了前三种内容之外的符号\n",
    "    - 数字不可以打头\n",
    "- 一般在Python种，以下划线开头的内容具有特殊含义，不建议使用\n",
    "- 大小写敏感\n",
    "- 推荐：\n",
    "    - 使用具有固定含义的英文单词或缩写，srv=server skt=socket，一般以posix命名规则为主\n",
    "    - 驼峰命名发：大驼峰、小驼峰\n",
    "    - posix写法\n",
    "        - 多个单词用下划线链接\n",
    "        - 单词全部小写\n",
    "- 保留字和关键字\n",
    "    - 变量命名必须避开，不能跟关键字和保留字重复\n",
    "    - class，def，break，for"
   ]
  },
  {
   "cell_type": "code",
   "execution_count": 2,
   "metadata": {},
   "outputs": [
    {
     "name": "stdout",
     "output_type": "stream",
     "text": [
      "['False', 'None', 'True', 'and', 'as', 'assert', 'async', 'await', 'break', 'class', 'continue', 'def', 'del', 'elif', 'else', 'except', 'finally', 'for', 'from', 'global', 'if', 'import', 'in', 'is', 'lambda', 'nonlocal', 'not', 'or', 'pass', 'raise', 'return', 'try', 'while', 'with', 'yield']\n"
     ]
    }
   ],
   "source": [
    "# 查看关键字的方法\n",
    "import keyword  #引入关键字模块\n",
    "#打印出系统全部关键字\n",
    "print(keyword.kwlist)"
   ]
  },
  {
   "cell_type": "markdown",
   "metadata": {},
   "source": [
    "## 变量声明\n",
    "python命名不像其他语言，Python命名赋值一起来\n",
    "- var_name = var_value\n",
    "- var1 = var2 = var3 = var_value\n",
    "- var1,var2,var3 = v1,v2,v3"
   ]
  },
  {
   "cell_type": "code",
   "execution_count": 5,
   "metadata": {},
   "outputs": [
    {
     "name": "stdout",
     "output_type": "stream",
     "text": [
      "18\n"
     ]
    }
   ],
   "source": [
    "#定义变量age，把18放入age中\n",
    "age = 18\n",
    "print(age)"
   ]
  },
  {
   "cell_type": "markdown",
   "metadata": {},
   "source": [
    "##   变量类型\n",
    "- 严格意义上将，Python只有一个类型\n",
    "- 标准数据类型六种\n",
    "    - 数字 number\n",
    "    - 字符串 str\n",
    "    - 列表 list\n",
    "    - 元组 tuple\n",
    "    - 字典 dict\n",
    "    - 集合 set"
   ]
  },
  {
   "cell_type": "markdown",
   "metadata": {},
   "source": [
    "### 数字\n",
    "- Python中的数字没有大小限制\n",
    "- 常见数字分类\n",
    "    - 整数\n",
    "        - 没有小数部分，包括正数、负数、0\n",
    "        - 二进制，以0b开头\n",
    "        - 八进制，以0o开头\n",
    "        - 十六进制，以0x开头\n",
    "    - 浮点数\n",
    "        - 常见的表示方法：\n",
    "            - 3.1415\n",
    "            - 3. => 3.0\n",
    "    - 科学计数法\n",
    "        - 写法：3.1415e2 =>314.15\n",
    "    - 复数 complex\n",
    "        - Python特有，其他语言大部分都没有这种数据类型\n",
    "        - 写法：5+4j"
   ]
  },
  {
   "cell_type": "code",
   "execution_count": 9,
   "metadata": {},
   "outputs": [
    {
     "name": "stdout",
     "output_type": "stream",
     "text": [
      "5\n",
      "393\n",
      "65340\n",
      "314.15\n",
      "(5+4j)\n"
     ]
    }
   ],
   "source": [
    "# 二进制定义\n",
    "a = 0b101\n",
    "print(a)\n",
    "\n",
    "# 八进制定义\n",
    "b = 0o611\n",
    "print(b)\n",
    "\n",
    "# 十六进制定义\n",
    "c = 0xff3c\n",
    "print(c)\n",
    "\n",
    "# 科学计数法\n",
    "d = 3.1415e2\n",
    "print(d)\n",
    "\n",
    "# 复数\n",
    "e = 5+4j\n",
    "print(e)"
   ]
  },
  {
   "cell_type": "markdown",
   "metadata": {},
   "source": [
    "### 布尔值\n",
    "- 用来表示真假\n",
    "- 有两个值：True/False  # 首字母必须大写\n",
    "- 在Python中，布尔值可以当数字使用\n",
    "    - True 为 1\n",
    "    - False 为 0\n",
    "- 数字当布尔值使用\n",
    "    - 0 为 False\n",
    "    - 其他数字为 True"
   ]
  },
  {
   "cell_type": "code",
   "execution_count": 15,
   "metadata": {},
   "outputs": [
    {
     "name": "stdout",
     "output_type": "stream",
     "text": [
      "19\n",
      "18\n",
      "负数表示True\n"
     ]
    }
   ],
   "source": [
    "# 布尔值当数字\n",
    "\n",
    "age = 18 + True\n",
    "print(age)\n",
    "\n",
    "age1 = 18 + False\n",
    "print(age1)\n",
    "\n",
    "# 数字当布尔值\n",
    "a = -1\n",
    "\n",
    "if a:\n",
    "    print(\"负数表示True\")\n",
    "else:\n",
    "    print(\"负数表示False\")"
   ]
  },
  {
   "cell_type": "markdown",
   "metadata": {},
   "source": [
    "### 字符串\n",
    "- 引号引起来的内容\n",
    "    - 单引号\n",
    "    - 双引号：单双引号含义一致，但在PEP中，会规定单双引号的不同使用场合\n",
    "    - 三引号：用来表示多行信息,单双引号仅能表示一行信息"
   ]
  },
  {
   "cell_type": "code",
   "execution_count": 17,
   "metadata": {},
   "outputs": [
    {
     "name": "stdout",
     "output_type": "stream",
     "text": [
      "Hello World\n",
      "Hello World\n",
      "Hello\n",
      "World\n",
      "\n"
     ]
    }
   ],
   "source": [
    "#字符串案例\n",
    "\n",
    "print('Hello World')\n",
    "print(\"Hello World\")\n",
    "print('''Hello\n",
    "World\n",
    "''')"
   ]
  },
  {
   "cell_type": "markdown",
   "metadata": {},
   "source": [
    "### None类型\n",
    "- 表示什么都没有\n",
    "- 可以用来作为函数的返回值，表示返回空"
   ]
  },
  {
   "cell_type": "code",
   "execution_count": null,
   "metadata": {},
   "outputs": [],
   "source": []
  }
 ],
 "metadata": {
  "kernelspec": {
   "display_name": "Python 3",
   "language": "python",
   "name": "python3"
  },
  "language_info": {
   "codemirror_mode": {
    "name": "ipython",
    "version": 3
   },
   "file_extension": ".py",
   "mimetype": "text/x-python",
   "name": "python",
   "nbconvert_exporter": "python",
   "pygments_lexer": "ipython3",
   "version": "3.7.0"
  }
 },
 "nbformat": 4,
 "nbformat_minor": 2
}
