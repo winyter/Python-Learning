{
 "cells": [
  {
   "cell_type": "markdown",
   "metadata": {},
   "source": [
    "# 表达式\n",
    "## 运算符\n",
    "- 运算符分类\n",
    "    - 算数运算符\n",
    "    - 比较运算符(关系运算符)\n",
    "    - 赋值运算符\n",
    "    - 逻辑运算符\n",
    "    - 位运算\n",
    "    - 成员运算符\n",
    "    - 身份运算符"
   ]
  },
  {
   "cell_type": "markdown",
   "metadata": {},
   "source": [
    "### 算数运算符\n",
    "- Python没有自增自减运算符\n",
    "- +-*/ % // **"
   ]
  },
  {
   "cell_type": "code",
   "execution_count": 4,
   "metadata": {},
   "outputs": [
    {
     "name": "stdout",
     "output_type": "stream",
     "text": [
      "8\n",
      "10\n",
      "9\n",
      "9.0\n",
      "1\n",
      "4\n",
      "4\n"
     ]
    }
   ],
   "source": [
    "print(9 - 1)\n",
    "print(9 + 1)\n",
    "print(9 * 1)\n",
    "print(9 / 1)\n",
    "print(9 % 2)\n",
    "print(9 // 2)  #地板除\n",
    "print(2 ** 2)  #指数"
   ]
  },
  {
   "cell_type": "markdown",
   "metadata": {},
   "source": [
    "### 比较运算符\n",
    "- 对内容进行比较\n",
    "- 结果为布尔值\n"
   ]
  },
  {
   "cell_type": "code",
   "execution_count": 8,
   "metadata": {},
   "outputs": [
    {
     "name": "stdout",
     "output_type": "stream",
     "text": [
      "False\n",
      "True\n",
      "True\n"
     ]
    }
   ],
   "source": [
    "# 等号 ==\n",
    "a = 3 == 4\n",
    "print(a)\n",
    "\n",
    "# 不等于 !=\n",
    "b = 1 != 0\n",
    "print(b)\n",
    "\n",
    "# 其他 >,<,>=,<=\n",
    "\n",
    "print(\"a\" < \"b\")"
   ]
  },
  {
   "cell_type": "markdown",
   "metadata": {},
   "source": [
    "### 赋值运算符\n",
    "- =\n",
    "- -=，+=，*=，/=，//=，**= 所有算数运算符均能和赋值运算符搭配产生缩写\n",
    "- 但Python中没有 ++，-- 这类自增自减运算符"
   ]
  },
  {
   "cell_type": "markdown",
   "metadata": {},
   "source": [
    "### 逻辑运算符\n",
    "- 对布尔类型变量或值进行运算\n",
    "- and：逻辑与\n",
    "- or：逻辑或\n",
    "- not：逻辑非\n",
    "- Python中没有异或\n",
    "- 运算规则\n",
    "    - and看成乘法，or看成加法\n",
    "    - True看成1,False看成0\n",
    "    - 则逻辑运算转换成数学运算\n",
    "    - 最后结果如果是0则为False，否则为True\n",
    "- 逻辑运算的短路问题\n",
    "    - 逻辑运算是顺序计算，一旦能确定最后的结果，则后面所有的算式将都不运行"
   ]
  },
  {
   "cell_type": "code",
   "execution_count": 10,
   "metadata": {},
   "outputs": [
    {
     "name": "stdout",
     "output_type": "stream",
     "text": [
      "True\n"
     ]
    }
   ],
   "source": [
    "# 短路问题\n",
    "a = True\n",
    "b = True\n",
    "c = False\n",
    "\n",
    "aa = c or b and a\n",
    "print(aa)"
   ]
  },
  {
   "cell_type": "code",
   "execution_count": 12,
   "metadata": {},
   "outputs": [
    {
     "name": "stdout",
     "output_type": "stream",
     "text": [
      "a\n",
      "b\n",
      "False\n",
      "********************\n",
      "a\n",
      "True\n"
     ]
    }
   ],
   "source": [
    "def a():\n",
    "    print(\"a\")\n",
    "    return True\n",
    "def b():\n",
    "    print(\"b\")\n",
    "    return False\n",
    "\n",
    "aaa = a() and b()  #正常运行\n",
    "print(aaa)\n",
    "print(\"*\" * 20)\n",
    "bbb = a() or b()  #短路发生，导致b()函数不执行\n",
    "print(bbb)"
   ]
  },
  {
   "cell_type": "markdown",
   "metadata": {},
   "source": [
    "### 成员运算符\n",
    "- 用来检测一个值或者变量是否在某个集合里面\n",
    "- in:在里面\n",
    "- not in:不在里面"
   ]
  },
  {
   "cell_type": "code",
   "execution_count": 2,
   "metadata": {},
   "outputs": [
    {
     "name": "stdout",
     "output_type": "stream",
     "text": [
      "False\n",
      "False\n"
     ]
    }
   ],
   "source": [
    "L = [1,2,3,4,5]\n",
    "a = 6\n",
    "b = 2\n",
    "print(a in L)\n",
    "print(b not in L)"
   ]
  },
  {
   "cell_type": "markdown",
   "metadata": {},
   "source": [
    "### 身份运算符\n",
    "- 用来确定两个变量是否是同一个变量\n",
    "- 其实就是判断两个变量指向的内存地址是否一样\n",
    "- is：是\n",
    "- not is：不是"
   ]
  },
  {
   "cell_type": "code",
   "execution_count": 27,
   "metadata": {},
   "outputs": [
    {
     "name": "stdout",
     "output_type": "stream",
     "text": [
      "False\n",
      "True\n",
      "False\n",
      "True\n"
     ]
    }
   ],
   "source": [
    "a = 1\n",
    "b = 11111\n",
    "print(a is b)\n",
    "\n",
    "c = d = 111133311\n",
    "print(c is d)\n",
    "\n",
    "e = 111133311\n",
    "f = 111133311\n",
    "print(e is f)\n",
    "\n",
    "# Python将较小的数字(-5~256)专门存放在内存中，如果有变量赋值为这些数字，Python会将变量名指向这些数字存放的内存，而不是专门划一块内存存放这个变量的值\n",
    "g = 1\n",
    "h = 1\n",
    "print(g is h)"
   ]
  },
  {
   "cell_type": "markdown",
   "metadata": {},
   "source": [
    "### 运算符的优先级\n",
    "- 小括号具有最高优先级\n",
    "- 较复杂的表达式，建议直接使用小括号"
   ]
  }
 ],
 "metadata": {
  "kernelspec": {
   "display_name": "Python 3",
   "language": "python",
   "name": "python3"
  },
  "language_info": {
   "codemirror_mode": {
    "name": "ipython",
    "version": 3
   },
   "file_extension": ".py",
   "mimetype": "text/x-python",
   "name": "python",
   "nbconvert_exporter": "python",
   "pygments_lexer": "ipython3",
   "version": "3.7.0"
  }
 },
 "nbformat": 4,
 "nbformat_minor": 2
}
