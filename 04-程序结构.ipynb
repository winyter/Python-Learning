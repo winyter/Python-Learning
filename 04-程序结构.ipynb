{
 "cells": [
  {
   "cell_type": "markdown",
   "metadata": {},
   "source": [
    "# 程序结构\n",
    "- 程序的三种结构\n",
    "    - 顺序\n",
    "    - 循环\n",
    "    - 分支"
   ]
  },
  {
   "cell_type": "markdown",
   "metadata": {},
   "source": [
    "## 分支结构\n",
    "- 基本语法\n",
    "    \n",
    "    if 条件表达式:\n",
    "        语句1\n",
    "        语句2\n",
    "        语句3\n",
    "        ...\n",
    "    elif 条件表达式:\n",
    "        语句1\n",
    "        ...\n",
    "    ...\n",
    "    else:\n",
    "        语句1\n",
    "        ...\n",
    "        \n",
    "- 条件表达式的计算结果必须为布尔值\n",
    "- 如果属于同一个语句块，必须有统一的缩进\n",
    "- 表达式后面的冒号不能少\n",
    "- if和else在一个分支结构中只能有一个\n",
    "- elif可以有多个\n",
    "- python没有switch\n",
    "- if可以嵌套，但不建议"
   ]
  },
  {
   "cell_type": "code",
   "execution_count": 6,
   "metadata": {},
   "outputs": [
    {
     "name": "stdout",
     "output_type": "stream",
     "text": [
      "2\n"
     ]
    }
   ],
   "source": [
    "# 空为假\n",
    "a = \"\"\n",
    "if a:\n",
    "    print(1)\n",
    "print(2)"
   ]
  },
  {
   "cell_type": "code",
   "execution_count": 13,
   "metadata": {},
   "outputs": [
    {
     "name": "stdout",
     "output_type": "stream",
     "text": [
      "请输入你的成绩10000\n",
      "请输入一个0-100的数字\n"
     ]
    }
   ],
   "source": [
    "# 需要注意！！！：Python中，input函数输入的内容均为字符串类型，如果需要其他类型，需要转换类型\n",
    "a = int(input(\"请输入你的成绩\"))\n",
    "\n",
    "def ifff\n",
    "    if a >= 90 and a <= 100:\n",
    "        print(\"优秀\")\n",
    "    elif a >= 80 and a < 90:\n",
    "        print(\"良好\")\n",
    "    elif a >= 70 and a < 80:\n",
    "        print(\"中等\")\n",
    "    elif a >= 60 and a < 70:\n",
    "        print(\"平\")\n",
    "    elif a >= 0 and a < 60:\n",
    "        print(\"差\")\n",
    "    else:\n",
    "        print(\"请输入一个0-100的数字\")"
   ]
  },
  {
   "cell_type": "markdown",
   "metadata": {},
   "source": [
    "## 循环语句\n",
    "- 重复执行某个固定的动作或任务\n",
    "- 分类\n",
    "    - for\n",
    "    - while\n",
    "     \n",
    "### for循环\n",
    "    for 变量 in 序列:\n",
    "        语句1\n",
    "        语句2\n",
    "        ...\n",
    "        "
   ]
  },
  {
   "cell_type": "code",
   "execution_count": 16,
   "metadata": {},
   "outputs": [
    {
     "name": "stdout",
     "output_type": "stream",
     "text": [
      "1\n",
      "2\n",
      "3\n",
      "4\n",
      "5\n"
     ]
    }
   ],
   "source": [
    "list_one = [1,2,3,4,5]\n",
    "for shuzi in list_one:\n",
    "    print(shuzi)"
   ]
  },
  {
   "cell_type": "markdown",
   "metadata": {},
   "source": [
    "## for-else语句\n",
    "- for循环结束的时候，有时候需要执行一些收尾工作，此时需要使用else语句\n",
    "- 语法\n",
    "    \n",
    "    for 变量 in 列表:\n",
    "        语句1\n",
    "        语句2\n",
    "        ...\n",
    "    else:\n",
    "        语句1\n",
    "        语句2\n",
    "        ..."
   ]
  },
  {
   "cell_type": "markdown",
   "metadata": {},
   "source": [
    "# break，continue, pass\n",
    "- break：无条件结束循环，简称循环猝死,但如果存在循环嵌套，break只跳一层\n",
    "- continue：继续执行下一次循环，本次循环就不再执行\n",
    "- pass：占位，一般用来放在for循环内，但它不会跳过"
   ]
  },
  {
   "cell_type": "code",
   "execution_count": 23,
   "metadata": {},
   "outputs": [
    {
     "name": "stdout",
     "output_type": "stream",
     "text": [
      "1\n",
      "2\n",
      "3\n",
      "4\n",
      "5 in the list\n"
     ]
    }
   ],
   "source": [
    "# break示例\n",
    "\n",
    "L1 = [1,2,3,4,5,6,7]\n",
    "for num in L1:\n",
    "    if num == 5:\n",
    "        print(\"5 in the list\")\n",
    "        break\n",
    "    else: \n",
    "        print(num)"
   ]
  },
  {
   "cell_type": "code",
   "execution_count": 33,
   "metadata": {},
   "outputs": [
    {
     "name": "stdout",
     "output_type": "stream",
     "text": [
      "2\n",
      "4\n",
      "6\n",
      "8\n",
      "10\n",
      "2\n",
      "4\n",
      "6\n",
      "8\n",
      "10\n"
     ]
    }
   ],
   "source": [
    "# continue\n",
    "# 在数字1-10中，寻找所有偶数，然后打印偶数\n",
    "\n",
    "L2 = range(1,11)\n",
    "for num in L2:\n",
    "    if num % 2 == 0:\n",
    "        print(num)\n",
    "    else:\n",
    "        continue\n",
    "\n",
    "#两段代码功能一样\n",
    "L3 = range(1,11)\n",
    "for num1 in L3:\n",
    "    if num1 % 2 == 1:\n",
    "        continue\n",
    "    print(num1)"
   ]
  },
  {
   "cell_type": "code",
   "execution_count": 36,
   "metadata": {},
   "outputs": [
    {
     "name": "stdout",
     "output_type": "stream",
     "text": [
      "0\n",
      "1\n",
      "2\n",
      "3\n",
      "4\n",
      "5\n",
      "6\n",
      "7\n"
     ]
    }
   ],
   "source": [
    "#pass不会跳过，不会影响其他代码的执行\n",
    "L4 = range(8)\n",
    "\n",
    "for num in L4:\n",
    "    pass\n",
    "    print(num)"
   ]
  },
  {
   "cell_type": "markdown",
   "metadata": {},
   "source": [
    "## while循环\n",
    "- for循环一般有一个明确的循环次数\n",
    "- while一般用在表示当条件成立的时候就循环，适用于不知道具体的循环次数，但能确定某个条件成立时，就跳出循环\n",
    "- while语法：\n",
    "\n",
    "    一种表示方法：\n",
    "    while 条件表达式:\n",
    "        语句块\n",
    "    \n",
    "    另一种表示方法\n",
    "    while 条件表达式:\n",
    "        语句块1\n",
    "    else:\n",
    "        语句块2"
   ]
  },
  {
   "cell_type": "code",
   "execution_count": 37,
   "metadata": {},
   "outputs": [
    {
     "name": "stdout",
     "output_type": "stream",
     "text": [
      "11\n"
     ]
    }
   ],
   "source": [
    "# 如果年利率6.7%，本利翻滚，则多少年后会翻倍\n",
    "\n",
    "money = 10000\n",
    "year = 0\n",
    "\n",
    "while money < 20000:\n",
    "    money = money * (1 + 0.067)\n",
    "    year += 1\n",
    "    \n",
    "print(year)"
   ]
  }
 ],
 "metadata": {
  "kernelspec": {
   "display_name": "Python 3",
   "language": "python",
   "name": "python3"
  },
  "language_info": {
   "codemirror_mode": {
    "name": "ipython",
    "version": 3
   },
   "file_extension": ".py",
   "mimetype": "text/x-python",
   "name": "python",
   "nbconvert_exporter": "python",
   "pygments_lexer": "ipython3",
   "version": "3.7.0"
  }
 },
 "nbformat": 4,
 "nbformat_minor": 2
}
